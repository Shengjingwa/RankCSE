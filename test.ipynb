{
 "cells": [
  {
   "cell_type": "code",
   "execution_count": 3,
   "metadata": {},
   "outputs": [],
   "source": [
    "import torch\n",
    "import torch.nn as nn\n",
    "from icecream import ic\n",
    "class Divergence(nn.Module):\n",
    "    \"\"\"\n",
    "    Jensen-Shannon divergence, used to measure ranking consistency between similarity lists obtained from examples with two different dropout masks\n",
    "    \"\"\"\n",
    "    def __init__(self, beta_):\n",
    "        super(Divergence, self).__init__()\n",
    "        self.kl = nn.KLDivLoss(reduction='batchmean', log_target=True)\n",
    "        self.eps = 1e-7\n",
    "        self.beta_ = beta_\n",
    "\n",
    "    def forward(self, p: torch.tensor, q: torch.tensor):\n",
    "        p, q = p.view(-1, p.size(-1)), q.view(-1, q.size(-1))\n",
    "        # ic(p)\n",
    "        # ic(q.shape)\n",
    "        m = (0.5 * (p + q)).log().clamp(min=self.eps)\n",
    "        return 0.5 * (self.kl(m, p.log()) + self.kl(m, q.log()))"
   ]
  },
  {
   "cell_type": "code",
   "execution_count": 5,
   "metadata": {},
   "outputs": [
    {
     "data": {
      "text/plain": [
       "tensor([[0.5281, 0.1457, 0.0907, 0.2356],\n",
       "        [0.3567, 0.0649, 0.4409, 0.1375],\n",
       "        [0.1604, 0.5561, 0.1401, 0.1434],\n",
       "        [0.1053, 0.2656, 0.3845, 0.2445]])"
      ]
     },
     "execution_count": 5,
     "metadata": {},
     "output_type": "execute_result"
    }
   ],
   "source": [
    "p = torch.randn(4,4)\n",
    "q = torch.randn(4,4)\n",
    "div = Divergence(0.5)\n",
    "p.softmax(dim=-1)\n"
   ]
  },
  {
   "cell_type": "code",
   "execution_count": null,
   "metadata": {},
   "outputs": [],
   "source": []
  }
 ],
 "metadata": {
  "kernelspec": {
   "display_name": "simcse11.8",
   "language": "python",
   "name": "python3"
  },
  "language_info": {
   "codemirror_mode": {
    "name": "ipython",
    "version": 3
   },
   "file_extension": ".py",
   "mimetype": "text/x-python",
   "name": "python",
   "nbconvert_exporter": "python",
   "pygments_lexer": "ipython3",
   "version": "3.9.20"
  }
 },
 "nbformat": 4,
 "nbformat_minor": 2
}
